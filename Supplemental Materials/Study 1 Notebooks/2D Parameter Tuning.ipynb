{
 "cells": [
  {
   "cell_type": "markdown",
   "id": "400b9c35",
   "metadata": {
    "column": 1,
    "index": 1
   },
   "source": [
    "# Section 1: Imports, Functions, and Constants"
   ]
  },
  {
   "cell_type": "code",
   "execution_count": 1,
   "id": "9a52fc9b",
   "metadata": {
    "column": 1,
    "index": 2
   },
   "outputs": [],
   "source": [
    "# Library Import Statements\n",
    "\n",
    "import pandas as pd\n",
    "import numpy as np\n",
    "from sklearn.preprocessing import normalize\n"
   ]
  },
  {
   "cell_type": "code",
   "execution_count": 2,
   "id": "01476f71",
   "metadata": {
    "column": 1,
    "index": 3
   },
   "outputs": [],
   "source": [
    "def euclidean_dist_calc(test, train):\n",
    "    \"\"\"\n",
    "    Compute the Euclidean distance between each\n",
    "    point in test and all points in train.\n",
    "    \"\"\"\n",
    "    num_test = test.shape[0]\n",
    "    num_train = train.shape[0]\n",
    "    dists = np.zeros((num_test, num_train)) \n",
    "    sum_squares_train = np.sum(np.square(train), axis=1)\n",
    "    sum_squares_test = np.sum(np.square(test), axis=1)\n",
    "    sum_combo = np.dot(test, train.T) * -2\n",
    "    dists = np.sqrt(((sum_combo + sum_squares_train).T + sum_squares_test).T)\n",
    "    return dists"
   ]
  },
  {
   "cell_type": "code",
   "execution_count": 3,
   "id": "90729030",
   "metadata": {
    "column": 1,
    "index": 4
   },
   "outputs": [],
   "source": [
    "def manhattan_dist_calc(test, train):\n",
    "    \"\"\"\n",
    "    Compute the Manhattan distance between each\n",
    "    point in test and all points in train.\n",
    "    \"\"\"\n",
    "    num_test = test.shape[0]\n",
    "    num_train = train.shape[0]\n",
    "    dists = np.zeros((num_test, num_train)) \n",
    "    for i in range(num_test):\n",
    "        test_point = test[i]\n",
    "        result_matrix = train - test_point\n",
    "        result_matrix = np.absolute(result_matrix)\n",
    "        result_vector = np.sum(result_matrix, axis=1)\n",
    "        dists[i] = result_vector\n",
    "    return dists"
   ]
  },
  {
   "cell_type": "code",
   "execution_count": 4,
   "id": "e66a0d94",
   "metadata": {
    "column": 1,
    "index": 5
   },
   "outputs": [],
   "source": [
    "def compute_distances(test, train, metric):\n",
    "    \"\"\"\n",
    "    Computes distances according to either \n",
    "    Euclidean or Manhattan distance metrics given\n",
    "    a test set and a training set.\n",
    "    \n",
    "    The input metric must either be \"Euclidean\" or \n",
    "    \"Manhattan\".\n",
    "    \"\"\"\n",
    "    if metric == \"Euclidean\":\n",
    "        dists = euclidean_dist_calc(test, train)\n",
    "    elif metric == \"Manhattan\":\n",
    "        dists = manhattan_dist_calc(test, train)\n",
    "    else:\n",
    "        raise ValueError(\"Invalid value d% for metric; must be Euclidean or Manhattan as a string.\" % metric)\n",
    "    return dists"
   ]
  },
  {
   "cell_type": "code",
   "execution_count": 5,
   "id": "3a32e21b",
   "metadata": {
    "column": 1,
    "index": 6
   },
   "outputs": [],
   "source": [
    "k = 45"
   ]
  },
  {
   "cell_type": "code",
   "execution_count": 7,
   "id": "777031d3",
   "metadata": {
    "column": 2,
    "index": 7
   },
   "outputs": [
    {
     "data": {
      "text/plain": [
       "0       1\n",
       "1       0\n",
       "2       1\n",
       "3       1\n",
       "4       1\n",
       "       ..\n",
       "4995    1\n",
       "4996    1\n",
       "4997    0\n",
       "4998    1\n",
       "4999    0\n",
       "Name: stabf, Length: 5000, dtype: int64"
      ]
     },
     "execution_count": 7,
     "metadata": {},
     "output_type": "execute_result"
    }
   ],
   "source": [
    "# Convert Class labels to numbers\n",
    "# 0 = stable\n",
    "# 1 = unstable\n",
    "\n",
    "\n",
    "data.loc[(data['stabf'] == 'stable'), 'stabf'] = 0\n",
    "data.loc[(data['stabf'] == 'unstable'), 'stabf'] = 1\n",
    "data['stabf'] = pd.to_numeric(data['stabf'])\n",
    "data['stabf']"
   ]
  },
  {
   "cell_type": "code",
   "execution_count": 8,
   "id": "bbd217cc",
   "metadata": {
    "column": 2,
    "index": 8
   },
   "outputs": [
    {
     "data": {
      "text/html": [
       "<div>\n",
       "<style scoped>\n",
       "    .dataframe tbody tr th:only-of-type {\n",
       "        vertical-align: middle;\n",
       "    }\n",
       "\n",
       "    .dataframe tbody tr th {\n",
       "        vertical-align: top;\n",
       "    }\n",
       "\n",
       "    .dataframe thead th {\n",
       "        text-align: right;\n",
       "    }\n",
       "</style>\n",
       "<table border=\"1\" class=\"dataframe\">\n",
       "  <thead>\n",
       "    <tr style=\"text-align: right;\">\n",
       "      <th></th>\n",
       "      <th>tau1</th>\n",
       "      <th>tau2</th>\n",
       "      <th>tau3</th>\n",
       "      <th>tau4</th>\n",
       "      <th>p1</th>\n",
       "      <th>p2</th>\n",
       "      <th>p3</th>\n",
       "      <th>p4</th>\n",
       "      <th>g1</th>\n",
       "      <th>g2</th>\n",
       "      <th>g3</th>\n",
       "      <th>g4</th>\n",
       "      <th>stab</th>\n",
       "      <th>stabf</th>\n",
       "    </tr>\n",
       "  </thead>\n",
       "  <tbody>\n",
       "    <tr>\n",
       "      <th>3500</th>\n",
       "      <td>7.592223</td>\n",
       "      <td>1.389509</td>\n",
       "      <td>7.285896</td>\n",
       "      <td>6.031028</td>\n",
       "      <td>4.901480</td>\n",
       "      <td>-1.809328</td>\n",
       "      <td>-1.536639</td>\n",
       "      <td>-1.555512</td>\n",
       "      <td>0.444016</td>\n",
       "      <td>0.469558</td>\n",
       "      <td>0.559769</td>\n",
       "      <td>0.170529</td>\n",
       "      <td>0.001593</td>\n",
       "      <td>1</td>\n",
       "    </tr>\n",
       "    <tr>\n",
       "      <th>3501</th>\n",
       "      <td>9.203739</td>\n",
       "      <td>3.031134</td>\n",
       "      <td>2.742088</td>\n",
       "      <td>7.318112</td>\n",
       "      <td>4.379546</td>\n",
       "      <td>-1.160296</td>\n",
       "      <td>-1.374819</td>\n",
       "      <td>-1.844431</td>\n",
       "      <td>0.322139</td>\n",
       "      <td>0.945597</td>\n",
       "      <td>0.786776</td>\n",
       "      <td>0.527852</td>\n",
       "      <td>0.015995</td>\n",
       "      <td>1</td>\n",
       "    </tr>\n",
       "    <tr>\n",
       "      <th>3502</th>\n",
       "      <td>4.016004</td>\n",
       "      <td>8.501127</td>\n",
       "      <td>5.345373</td>\n",
       "      <td>6.943443</td>\n",
       "      <td>2.952986</td>\n",
       "      <td>-0.535994</td>\n",
       "      <td>-1.375817</td>\n",
       "      <td>-1.041175</td>\n",
       "      <td>0.662382</td>\n",
       "      <td>0.300356</td>\n",
       "      <td>0.251775</td>\n",
       "      <td>0.559976</td>\n",
       "      <td>0.027832</td>\n",
       "      <td>1</td>\n",
       "    </tr>\n",
       "    <tr>\n",
       "      <th>3503</th>\n",
       "      <td>1.568860</td>\n",
       "      <td>2.338635</td>\n",
       "      <td>7.562933</td>\n",
       "      <td>0.931341</td>\n",
       "      <td>3.180046</td>\n",
       "      <td>-1.887828</td>\n",
       "      <td>-0.673774</td>\n",
       "      <td>-0.618444</td>\n",
       "      <td>0.321079</td>\n",
       "      <td>0.081876</td>\n",
       "      <td>0.298656</td>\n",
       "      <td>0.078052</td>\n",
       "      <td>-0.051548</td>\n",
       "      <td>0</td>\n",
       "    </tr>\n",
       "    <tr>\n",
       "      <th>3504</th>\n",
       "      <td>8.906023</td>\n",
       "      <td>4.356134</td>\n",
       "      <td>4.086695</td>\n",
       "      <td>1.396348</td>\n",
       "      <td>4.998403</td>\n",
       "      <td>-1.232689</td>\n",
       "      <td>-1.910843</td>\n",
       "      <td>-1.854870</td>\n",
       "      <td>0.143437</td>\n",
       "      <td>0.556369</td>\n",
       "      <td>0.929642</td>\n",
       "      <td>0.686855</td>\n",
       "      <td>0.007881</td>\n",
       "      <td>1</td>\n",
       "    </tr>\n",
       "    <tr>\n",
       "      <th>...</th>\n",
       "      <td>...</td>\n",
       "      <td>...</td>\n",
       "      <td>...</td>\n",
       "      <td>...</td>\n",
       "      <td>...</td>\n",
       "      <td>...</td>\n",
       "      <td>...</td>\n",
       "      <td>...</td>\n",
       "      <td>...</td>\n",
       "      <td>...</td>\n",
       "      <td>...</td>\n",
       "      <td>...</td>\n",
       "      <td>...</td>\n",
       "      <td>...</td>\n",
       "    </tr>\n",
       "    <tr>\n",
       "      <th>4995</th>\n",
       "      <td>3.592940</td>\n",
       "      <td>8.130493</td>\n",
       "      <td>3.270724</td>\n",
       "      <td>8.075292</td>\n",
       "      <td>4.772430</td>\n",
       "      <td>-1.458529</td>\n",
       "      <td>-1.690274</td>\n",
       "      <td>-1.623627</td>\n",
       "      <td>0.210123</td>\n",
       "      <td>0.683625</td>\n",
       "      <td>0.159779</td>\n",
       "      <td>0.344948</td>\n",
       "      <td>0.011499</td>\n",
       "      <td>1</td>\n",
       "    </tr>\n",
       "    <tr>\n",
       "      <th>4996</th>\n",
       "      <td>7.656651</td>\n",
       "      <td>6.411748</td>\n",
       "      <td>5.655960</td>\n",
       "      <td>6.045712</td>\n",
       "      <td>3.193900</td>\n",
       "      <td>-0.918944</td>\n",
       "      <td>-1.377013</td>\n",
       "      <td>-0.897943</td>\n",
       "      <td>0.443617</td>\n",
       "      <td>0.490799</td>\n",
       "      <td>0.988511</td>\n",
       "      <td>0.788984</td>\n",
       "      <td>0.086436</td>\n",
       "      <td>1</td>\n",
       "    </tr>\n",
       "    <tr>\n",
       "      <th>4997</th>\n",
       "      <td>1.069438</td>\n",
       "      <td>6.581439</td>\n",
       "      <td>1.230892</td>\n",
       "      <td>9.937483</td>\n",
       "      <td>3.756828</td>\n",
       "      <td>-1.524720</td>\n",
       "      <td>-0.516322</td>\n",
       "      <td>-1.715786</td>\n",
       "      <td>0.501101</td>\n",
       "      <td>0.381437</td>\n",
       "      <td>0.773236</td>\n",
       "      <td>0.822149</td>\n",
       "      <td>-0.025390</td>\n",
       "      <td>0</td>\n",
       "    </tr>\n",
       "    <tr>\n",
       "      <th>4998</th>\n",
       "      <td>4.629745</td>\n",
       "      <td>8.353612</td>\n",
       "      <td>8.119304</td>\n",
       "      <td>8.600847</td>\n",
       "      <td>2.960941</td>\n",
       "      <td>-1.424327</td>\n",
       "      <td>-0.890685</td>\n",
       "      <td>-0.645929</td>\n",
       "      <td>0.383265</td>\n",
       "      <td>0.241701</td>\n",
       "      <td>0.609101</td>\n",
       "      <td>0.756135</td>\n",
       "      <td>0.052382</td>\n",
       "      <td>1</td>\n",
       "    </tr>\n",
       "    <tr>\n",
       "      <th>4999</th>\n",
       "      <td>0.754512</td>\n",
       "      <td>9.723392</td>\n",
       "      <td>9.264871</td>\n",
       "      <td>1.415836</td>\n",
       "      <td>5.029876</td>\n",
       "      <td>-1.281568</td>\n",
       "      <td>-1.946921</td>\n",
       "      <td>-1.801387</td>\n",
       "      <td>0.448670</td>\n",
       "      <td>0.413843</td>\n",
       "      <td>0.273108</td>\n",
       "      <td>0.251181</td>\n",
       "      <td>-0.036986</td>\n",
       "      <td>0</td>\n",
       "    </tr>\n",
       "  </tbody>\n",
       "</table>\n",
       "<p>1500 rows × 14 columns</p>\n",
       "</div>"
      ],
      "text/plain": [
       "          tau1      tau2      tau3      tau4        p1        p2        p3  \\\n",
       "3500  7.592223  1.389509  7.285896  6.031028  4.901480 -1.809328 -1.536639   \n",
       "3501  9.203739  3.031134  2.742088  7.318112  4.379546 -1.160296 -1.374819   \n",
       "3502  4.016004  8.501127  5.345373  6.943443  2.952986 -0.535994 -1.375817   \n",
       "3503  1.568860  2.338635  7.562933  0.931341  3.180046 -1.887828 -0.673774   \n",
       "3504  8.906023  4.356134  4.086695  1.396348  4.998403 -1.232689 -1.910843   \n",
       "...        ...       ...       ...       ...       ...       ...       ...   \n",
       "4995  3.592940  8.130493  3.270724  8.075292  4.772430 -1.458529 -1.690274   \n",
       "4996  7.656651  6.411748  5.655960  6.045712  3.193900 -0.918944 -1.377013   \n",
       "4997  1.069438  6.581439  1.230892  9.937483  3.756828 -1.524720 -0.516322   \n",
       "4998  4.629745  8.353612  8.119304  8.600847  2.960941 -1.424327 -0.890685   \n",
       "4999  0.754512  9.723392  9.264871  1.415836  5.029876 -1.281568 -1.946921   \n",
       "\n",
       "            p4        g1        g2        g3        g4      stab  stabf  \n",
       "3500 -1.555512  0.444016  0.469558  0.559769  0.170529  0.001593      1  \n",
       "3501 -1.844431  0.322139  0.945597  0.786776  0.527852  0.015995      1  \n",
       "3502 -1.041175  0.662382  0.300356  0.251775  0.559976  0.027832      1  \n",
       "3503 -0.618444  0.321079  0.081876  0.298656  0.078052 -0.051548      0  \n",
       "3504 -1.854870  0.143437  0.556369  0.929642  0.686855  0.007881      1  \n",
       "...        ...       ...       ...       ...       ...       ...    ...  \n",
       "4995 -1.623627  0.210123  0.683625  0.159779  0.344948  0.011499      1  \n",
       "4996 -0.897943  0.443617  0.490799  0.988511  0.788984  0.086436      1  \n",
       "4997 -1.715786  0.501101  0.381437  0.773236  0.822149 -0.025390      0  \n",
       "4998 -0.645929  0.383265  0.241701  0.609101  0.756135  0.052382      1  \n",
       "4999 -1.801387  0.448670  0.413843  0.273108  0.251181 -0.036986      0  \n",
       "\n",
       "[1500 rows x 14 columns]"
      ]
     },
     "execution_count": 8,
     "metadata": {},
     "output_type": "execute_result"
    }
   ],
   "source": [
    "# Split dataframe into testing and training sets\n",
    "train_data = data.iloc[:3500]\n",
    "test_data = data.iloc[3500:]\n",
    "test_data"
   ]
  },
  {
   "cell_type": "markdown",
   "id": "5f33dd0d",
   "metadata": {
    "column": 2,
    "index": 9
   },
   "source": [
    "# Section 3: Split Labels from Train & Test Sets, Numpyize Them"
   ]
  },
  {
   "cell_type": "code",
   "execution_count": 9,
   "id": "810e60e9",
   "metadata": {
    "column": 2,
    "index": 10
   },
   "outputs": [
    {
     "data": {
      "text/plain": [
       "array([1, 1, 1, ..., 0, 1, 0], dtype=int64)"
      ]
     },
     "execution_count": 9,
     "metadata": {},
     "output_type": "execute_result"
    }
   ],
   "source": [
    "# Save labels for train and test sets\n",
    "train_labels = train_data['stabf'].to_numpy()\n",
    "test_labels = test_data['stabf'].to_numpy()\n",
    "test_labels"
   ]
  },
  {
   "cell_type": "markdown",
   "id": "baaa29bb",
   "metadata": {
    "column": 3,
    "index": 11
   },
   "source": [
    "# Section 2: Make Train & Test Sets"
   ]
  },
  {
   "cell_type": "code",
   "execution_count": 6,
   "id": "9543b494",
   "metadata": {
    "column": 3,
    "index": 12
   },
   "outputs": [
    {
     "data": {
      "text/html": [
       "<div>\n",
       "<style scoped>\n",
       "    .dataframe tbody tr th:only-of-type {\n",
       "        vertical-align: middle;\n",
       "    }\n",
       "\n",
       "    .dataframe tbody tr th {\n",
       "        vertical-align: top;\n",
       "    }\n",
       "\n",
       "    .dataframe thead th {\n",
       "        text-align: right;\n",
       "    }\n",
       "</style>\n",
       "<table border=\"1\" class=\"dataframe\">\n",
       "  <thead>\n",
       "    <tr style=\"text-align: right;\">\n",
       "      <th></th>\n",
       "      <th>tau1</th>\n",
       "      <th>tau2</th>\n",
       "      <th>tau3</th>\n",
       "      <th>tau4</th>\n",
       "      <th>p1</th>\n",
       "      <th>p2</th>\n",
       "      <th>p3</th>\n",
       "      <th>p4</th>\n",
       "      <th>g1</th>\n",
       "      <th>g2</th>\n",
       "      <th>g3</th>\n",
       "      <th>g4</th>\n",
       "      <th>stab</th>\n",
       "      <th>stabf</th>\n",
       "    </tr>\n",
       "  </thead>\n",
       "  <tbody>\n",
       "    <tr>\n",
       "      <th>0</th>\n",
       "      <td>2.959060</td>\n",
       "      <td>3.079885</td>\n",
       "      <td>8.381025</td>\n",
       "      <td>9.780754</td>\n",
       "      <td>3.763085</td>\n",
       "      <td>-0.782604</td>\n",
       "      <td>-1.257395</td>\n",
       "      <td>-1.723086</td>\n",
       "      <td>0.650456</td>\n",
       "      <td>0.859578</td>\n",
       "      <td>0.887445</td>\n",
       "      <td>0.958034</td>\n",
       "      <td>0.055347</td>\n",
       "      <td>unstable</td>\n",
       "    </tr>\n",
       "    <tr>\n",
       "      <th>1</th>\n",
       "      <td>9.304097</td>\n",
       "      <td>4.902524</td>\n",
       "      <td>3.047541</td>\n",
       "      <td>1.369357</td>\n",
       "      <td>5.067812</td>\n",
       "      <td>-1.940058</td>\n",
       "      <td>-1.872742</td>\n",
       "      <td>-1.255012</td>\n",
       "      <td>0.413441</td>\n",
       "      <td>0.862414</td>\n",
       "      <td>0.562139</td>\n",
       "      <td>0.781760</td>\n",
       "      <td>-0.005957</td>\n",
       "      <td>stable</td>\n",
       "    </tr>\n",
       "    <tr>\n",
       "      <th>2</th>\n",
       "      <td>8.971707</td>\n",
       "      <td>8.848428</td>\n",
       "      <td>3.046479</td>\n",
       "      <td>1.214518</td>\n",
       "      <td>3.405158</td>\n",
       "      <td>-1.207456</td>\n",
       "      <td>-1.277210</td>\n",
       "      <td>-0.920492</td>\n",
       "      <td>0.163041</td>\n",
       "      <td>0.766689</td>\n",
       "      <td>0.839444</td>\n",
       "      <td>0.109853</td>\n",
       "      <td>0.003471</td>\n",
       "      <td>unstable</td>\n",
       "    </tr>\n",
       "    <tr>\n",
       "      <th>3</th>\n",
       "      <td>0.716415</td>\n",
       "      <td>7.669600</td>\n",
       "      <td>4.486641</td>\n",
       "      <td>2.340563</td>\n",
       "      <td>3.963791</td>\n",
       "      <td>-1.027473</td>\n",
       "      <td>-1.938944</td>\n",
       "      <td>-0.997374</td>\n",
       "      <td>0.446209</td>\n",
       "      <td>0.976744</td>\n",
       "      <td>0.929381</td>\n",
       "      <td>0.362718</td>\n",
       "      <td>0.028871</td>\n",
       "      <td>unstable</td>\n",
       "    </tr>\n",
       "    <tr>\n",
       "      <th>4</th>\n",
       "      <td>3.134112</td>\n",
       "      <td>7.608772</td>\n",
       "      <td>4.943759</td>\n",
       "      <td>9.857573</td>\n",
       "      <td>3.525811</td>\n",
       "      <td>-1.125531</td>\n",
       "      <td>-1.845975</td>\n",
       "      <td>-0.554305</td>\n",
       "      <td>0.797110</td>\n",
       "      <td>0.455450</td>\n",
       "      <td>0.656947</td>\n",
       "      <td>0.820923</td>\n",
       "      <td>0.049860</td>\n",
       "      <td>unstable</td>\n",
       "    </tr>\n",
       "  </tbody>\n",
       "</table>\n",
       "</div>"
      ],
      "text/plain": [
       "       tau1      tau2      tau3      tau4        p1        p2        p3  \\\n",
       "0  2.959060  3.079885  8.381025  9.780754  3.763085 -0.782604 -1.257395   \n",
       "1  9.304097  4.902524  3.047541  1.369357  5.067812 -1.940058 -1.872742   \n",
       "2  8.971707  8.848428  3.046479  1.214518  3.405158 -1.207456 -1.277210   \n",
       "3  0.716415  7.669600  4.486641  2.340563  3.963791 -1.027473 -1.938944   \n",
       "4  3.134112  7.608772  4.943759  9.857573  3.525811 -1.125531 -1.845975   \n",
       "\n",
       "         p4        g1        g2        g3        g4      stab     stabf  \n",
       "0 -1.723086  0.650456  0.859578  0.887445  0.958034  0.055347  unstable  \n",
       "1 -1.255012  0.413441  0.862414  0.562139  0.781760 -0.005957    stable  \n",
       "2 -0.920492  0.163041  0.766689  0.839444  0.109853  0.003471  unstable  \n",
       "3 -0.997374  0.446209  0.976744  0.929381  0.362718  0.028871  unstable  \n",
       "4 -0.554305  0.797110  0.455450  0.656947  0.820923  0.049860  unstable  "
      ]
     },
     "execution_count": 6,
     "metadata": {},
     "output_type": "execute_result"
    }
   ],
   "source": [
    "# Data Import Cell\n",
    "url = \"http://archive.ics.uci.edu/ml/machine-learning-databases/00471/Data_for_UCI_named.csv\"\n",
    "data = pd.read_csv(url, sep=\",\")\n",
    "data = data.head(5000)\n",
    "data.head()"
   ]
  },
  {
   "cell_type": "code",
   "execution_count": 10,
   "id": "5b658f6d",
   "metadata": {
    "column": 3,
    "index": 13
   },
   "outputs": [
    {
     "data": {
      "text/html": [
       "<div>\n",
       "<style scoped>\n",
       "    .dataframe tbody tr th:only-of-type {\n",
       "        vertical-align: middle;\n",
       "    }\n",
       "\n",
       "    .dataframe tbody tr th {\n",
       "        vertical-align: top;\n",
       "    }\n",
       "\n",
       "    .dataframe thead th {\n",
       "        text-align: right;\n",
       "    }\n",
       "</style>\n",
       "<table border=\"1\" class=\"dataframe\">\n",
       "  <thead>\n",
       "    <tr style=\"text-align: right;\">\n",
       "      <th></th>\n",
       "      <th>tau1</th>\n",
       "      <th>tau2</th>\n",
       "      <th>tau3</th>\n",
       "      <th>tau4</th>\n",
       "      <th>p1</th>\n",
       "      <th>p2</th>\n",
       "      <th>p3</th>\n",
       "      <th>p4</th>\n",
       "      <th>g1</th>\n",
       "      <th>g2</th>\n",
       "      <th>g3</th>\n",
       "      <th>g4</th>\n",
       "      <th>stab</th>\n",
       "    </tr>\n",
       "  </thead>\n",
       "  <tbody>\n",
       "    <tr>\n",
       "      <th>3500</th>\n",
       "      <td>7.592223</td>\n",
       "      <td>1.389509</td>\n",
       "      <td>7.285896</td>\n",
       "      <td>6.031028</td>\n",
       "      <td>4.901480</td>\n",
       "      <td>-1.809328</td>\n",
       "      <td>-1.536639</td>\n",
       "      <td>-1.555512</td>\n",
       "      <td>0.444016</td>\n",
       "      <td>0.469558</td>\n",
       "      <td>0.559769</td>\n",
       "      <td>0.170529</td>\n",
       "      <td>0.001593</td>\n",
       "    </tr>\n",
       "    <tr>\n",
       "      <th>3501</th>\n",
       "      <td>9.203739</td>\n",
       "      <td>3.031134</td>\n",
       "      <td>2.742088</td>\n",
       "      <td>7.318112</td>\n",
       "      <td>4.379546</td>\n",
       "      <td>-1.160296</td>\n",
       "      <td>-1.374819</td>\n",
       "      <td>-1.844431</td>\n",
       "      <td>0.322139</td>\n",
       "      <td>0.945597</td>\n",
       "      <td>0.786776</td>\n",
       "      <td>0.527852</td>\n",
       "      <td>0.015995</td>\n",
       "    </tr>\n",
       "    <tr>\n",
       "      <th>3502</th>\n",
       "      <td>4.016004</td>\n",
       "      <td>8.501127</td>\n",
       "      <td>5.345373</td>\n",
       "      <td>6.943443</td>\n",
       "      <td>2.952986</td>\n",
       "      <td>-0.535994</td>\n",
       "      <td>-1.375817</td>\n",
       "      <td>-1.041175</td>\n",
       "      <td>0.662382</td>\n",
       "      <td>0.300356</td>\n",
       "      <td>0.251775</td>\n",
       "      <td>0.559976</td>\n",
       "      <td>0.027832</td>\n",
       "    </tr>\n",
       "    <tr>\n",
       "      <th>3503</th>\n",
       "      <td>1.568860</td>\n",
       "      <td>2.338635</td>\n",
       "      <td>7.562933</td>\n",
       "      <td>0.931341</td>\n",
       "      <td>3.180046</td>\n",
       "      <td>-1.887828</td>\n",
       "      <td>-0.673774</td>\n",
       "      <td>-0.618444</td>\n",
       "      <td>0.321079</td>\n",
       "      <td>0.081876</td>\n",
       "      <td>0.298656</td>\n",
       "      <td>0.078052</td>\n",
       "      <td>-0.051548</td>\n",
       "    </tr>\n",
       "    <tr>\n",
       "      <th>3504</th>\n",
       "      <td>8.906023</td>\n",
       "      <td>4.356134</td>\n",
       "      <td>4.086695</td>\n",
       "      <td>1.396348</td>\n",
       "      <td>4.998403</td>\n",
       "      <td>-1.232689</td>\n",
       "      <td>-1.910843</td>\n",
       "      <td>-1.854870</td>\n",
       "      <td>0.143437</td>\n",
       "      <td>0.556369</td>\n",
       "      <td>0.929642</td>\n",
       "      <td>0.686855</td>\n",
       "      <td>0.007881</td>\n",
       "    </tr>\n",
       "    <tr>\n",
       "      <th>...</th>\n",
       "      <td>...</td>\n",
       "      <td>...</td>\n",
       "      <td>...</td>\n",
       "      <td>...</td>\n",
       "      <td>...</td>\n",
       "      <td>...</td>\n",
       "      <td>...</td>\n",
       "      <td>...</td>\n",
       "      <td>...</td>\n",
       "      <td>...</td>\n",
       "      <td>...</td>\n",
       "      <td>...</td>\n",
       "      <td>...</td>\n",
       "    </tr>\n",
       "    <tr>\n",
       "      <th>4995</th>\n",
       "      <td>3.592940</td>\n",
       "      <td>8.130493</td>\n",
       "      <td>3.270724</td>\n",
       "      <td>8.075292</td>\n",
       "      <td>4.772430</td>\n",
       "      <td>-1.458529</td>\n",
       "      <td>-1.690274</td>\n",
       "      <td>-1.623627</td>\n",
       "      <td>0.210123</td>\n",
       "      <td>0.683625</td>\n",
       "      <td>0.159779</td>\n",
       "      <td>0.344948</td>\n",
       "      <td>0.011499</td>\n",
       "    </tr>\n",
       "    <tr>\n",
       "      <th>4996</th>\n",
       "      <td>7.656651</td>\n",
       "      <td>6.411748</td>\n",
       "      <td>5.655960</td>\n",
       "      <td>6.045712</td>\n",
       "      <td>3.193900</td>\n",
       "      <td>-0.918944</td>\n",
       "      <td>-1.377013</td>\n",
       "      <td>-0.897943</td>\n",
       "      <td>0.443617</td>\n",
       "      <td>0.490799</td>\n",
       "      <td>0.988511</td>\n",
       "      <td>0.788984</td>\n",
       "      <td>0.086436</td>\n",
       "    </tr>\n",
       "    <tr>\n",
       "      <th>4997</th>\n",
       "      <td>1.069438</td>\n",
       "      <td>6.581439</td>\n",
       "      <td>1.230892</td>\n",
       "      <td>9.937483</td>\n",
       "      <td>3.756828</td>\n",
       "      <td>-1.524720</td>\n",
       "      <td>-0.516322</td>\n",
       "      <td>-1.715786</td>\n",
       "      <td>0.501101</td>\n",
       "      <td>0.381437</td>\n",
       "      <td>0.773236</td>\n",
       "      <td>0.822149</td>\n",
       "      <td>-0.025390</td>\n",
       "    </tr>\n",
       "    <tr>\n",
       "      <th>4998</th>\n",
       "      <td>4.629745</td>\n",
       "      <td>8.353612</td>\n",
       "      <td>8.119304</td>\n",
       "      <td>8.600847</td>\n",
       "      <td>2.960941</td>\n",
       "      <td>-1.424327</td>\n",
       "      <td>-0.890685</td>\n",
       "      <td>-0.645929</td>\n",
       "      <td>0.383265</td>\n",
       "      <td>0.241701</td>\n",
       "      <td>0.609101</td>\n",
       "      <td>0.756135</td>\n",
       "      <td>0.052382</td>\n",
       "    </tr>\n",
       "    <tr>\n",
       "      <th>4999</th>\n",
       "      <td>0.754512</td>\n",
       "      <td>9.723392</td>\n",
       "      <td>9.264871</td>\n",
       "      <td>1.415836</td>\n",
       "      <td>5.029876</td>\n",
       "      <td>-1.281568</td>\n",
       "      <td>-1.946921</td>\n",
       "      <td>-1.801387</td>\n",
       "      <td>0.448670</td>\n",
       "      <td>0.413843</td>\n",
       "      <td>0.273108</td>\n",
       "      <td>0.251181</td>\n",
       "      <td>-0.036986</td>\n",
       "    </tr>\n",
       "  </tbody>\n",
       "</table>\n",
       "<p>1500 rows × 13 columns</p>\n",
       "</div>"
      ],
      "text/plain": [
       "          tau1      tau2      tau3      tau4        p1        p2        p3  \\\n",
       "3500  7.592223  1.389509  7.285896  6.031028  4.901480 -1.809328 -1.536639   \n",
       "3501  9.203739  3.031134  2.742088  7.318112  4.379546 -1.160296 -1.374819   \n",
       "3502  4.016004  8.501127  5.345373  6.943443  2.952986 -0.535994 -1.375817   \n",
       "3503  1.568860  2.338635  7.562933  0.931341  3.180046 -1.887828 -0.673774   \n",
       "3504  8.906023  4.356134  4.086695  1.396348  4.998403 -1.232689 -1.910843   \n",
       "...        ...       ...       ...       ...       ...       ...       ...   \n",
       "4995  3.592940  8.130493  3.270724  8.075292  4.772430 -1.458529 -1.690274   \n",
       "4996  7.656651  6.411748  5.655960  6.045712  3.193900 -0.918944 -1.377013   \n",
       "4997  1.069438  6.581439  1.230892  9.937483  3.756828 -1.524720 -0.516322   \n",
       "4998  4.629745  8.353612  8.119304  8.600847  2.960941 -1.424327 -0.890685   \n",
       "4999  0.754512  9.723392  9.264871  1.415836  5.029876 -1.281568 -1.946921   \n",
       "\n",
       "            p4        g1        g2        g3        g4      stab  \n",
       "3500 -1.555512  0.444016  0.469558  0.559769  0.170529  0.001593  \n",
       "3501 -1.844431  0.322139  0.945597  0.786776  0.527852  0.015995  \n",
       "3502 -1.041175  0.662382  0.300356  0.251775  0.559976  0.027832  \n",
       "3503 -0.618444  0.321079  0.081876  0.298656  0.078052 -0.051548  \n",
       "3504 -1.854870  0.143437  0.556369  0.929642  0.686855  0.007881  \n",
       "...        ...       ...       ...       ...       ...       ...  \n",
       "4995 -1.623627  0.210123  0.683625  0.159779  0.344948  0.011499  \n",
       "4996 -0.897943  0.443617  0.490799  0.988511  0.788984  0.086436  \n",
       "4997 -1.715786  0.501101  0.381437  0.773236  0.822149 -0.025390  \n",
       "4998 -0.645929  0.383265  0.241701  0.609101  0.756135  0.052382  \n",
       "4999 -1.801387  0.448670  0.413843  0.273108  0.251181 -0.036986  \n",
       "\n",
       "[1500 rows x 13 columns]"
      ]
     },
     "execution_count": 10,
     "metadata": {},
     "output_type": "execute_result"
    }
   ],
   "source": [
    "# Drop class column from train and test sets\n",
    "train = train_data.drop('stabf', axis=1)\n",
    "test = test_data.drop('stabf', axis=1)\n",
    "test"
   ]
  },
  {
   "cell_type": "code",
   "execution_count": 11,
   "id": "407e8ac7",
   "metadata": {
    "column": 3,
    "index": 14
   },
   "outputs": [
    {
     "data": {
      "text/plain": [
       "array([[ 7.59222336e+00,  1.38950867e+00,  7.28589559e+00, ...,\n",
       "         5.59768619e-01,  1.70528709e-01,  1.59300624e-03],\n",
       "       [ 9.20373904e+00,  3.03113388e+00,  2.74208849e+00, ...,\n",
       "         7.86776143e-01,  5.27851948e-01,  1.59949946e-02],\n",
       "       [ 4.01600415e+00,  8.50112731e+00,  5.34537329e+00, ...,\n",
       "         2.51774855e-01,  5.59975960e-01,  2.78322527e-02],\n",
       "       ...,\n",
       "       [ 1.06943762e+00,  6.58143888e+00,  1.23089213e+00, ...,\n",
       "         7.73236128e-01,  8.22149435e-01, -2.53904805e-02],\n",
       "       [ 4.62974535e+00,  8.35361207e+00,  8.11930402e+00, ...,\n",
       "         6.09100855e-01,  7.56135124e-01,  5.23822770e-02],\n",
       "       [ 7.54511861e-01,  9.72339201e+00,  9.26487092e+00, ...,\n",
       "         2.73108030e-01,  2.51180820e-01, -3.69859336e-02]])"
      ]
     },
     "execution_count": 11,
     "metadata": {},
     "output_type": "execute_result"
    }
   ],
   "source": [
    "# Convert train and test to numpy arrays\n",
    "train = train.to_numpy()\n",
    "test = test.to_numpy()\n",
    "test"
   ]
  },
  {
   "cell_type": "markdown",
   "id": "4302467e",
   "metadata": {
    "column": 3,
    "index": 15
   },
   "source": [
    "# Section 4: Analysis"
   ]
  },
  {
   "cell_type": "code",
   "execution_count": 13,
   "id": "234b0bc6",
   "metadata": {
    "column": 3,
    "index": 16,
    "scrolled": true
   },
   "outputs": [
    {
     "data": {
      "text/plain": [
       "array([[0.0529621 , 0.04462797, 0.05458674, ..., 0.06326677, 0.05746328,\n",
       "        0.04569973],\n",
       "       [0.04906884, 0.04705974, 0.05646954, ..., 0.06194467, 0.05296708,\n",
       "        0.05821566],\n",
       "       [0.03821409, 0.05069847, 0.05365513, ..., 0.0557102 , 0.0613269 ,\n",
       "        0.053487  ],\n",
       "       ...,\n",
       "       [0.05835539, 0.05998833, 0.06828727, ..., 0.0537749 , 0.04646163,\n",
       "        0.06121794],\n",
       "       [0.04297523, 0.06438266, 0.06614503, ..., 0.06783632, 0.07152282,\n",
       "        0.0638074 ],\n",
       "       [0.07608597, 0.06118565, 0.06595964, ..., 0.06664703, 0.07698337,\n",
       "        0.07384184]])"
      ]
     },
     "execution_count": 13,
     "metadata": {},
     "output_type": "execute_result"
    }
   ],
   "source": [
    "# Compute Distance Matrix\n",
    "\n",
    "dists = compute_distances(test, train, \"Euclidean\")\n",
    "#dists = compute_distances(test, train, \"Manhattan\")\n",
    "dists"
   ]
  },
  {
   "cell_type": "code",
   "execution_count": 12,
   "id": "0d1ebf71",
   "metadata": {
    "column": 4,
    "index": 17,
    "scrolled": true
   },
   "outputs": [
    {
     "data": {
      "text/plain": [
       "array([[ 0.03294783,  0.0059878 ,  0.03189501, ...,  0.02445562,\n",
       "         0.00752012,  0.00101395],\n",
       "       [ 0.03994129,  0.01306203,  0.01200387, ...,  0.03437331,\n",
       "         0.02327766,  0.01018084],\n",
       "       [ 0.01742818,  0.03663382,  0.02340011, ...,  0.01099974,\n",
       "         0.02469429,  0.01771527],\n",
       "       ...,\n",
       "       [ 0.00464102,  0.02836133,  0.0053884 , ...,  0.03378176,\n",
       "         0.03625584, -0.01616108],\n",
       "       [ 0.02009162,  0.03599814,  0.03554337, ...,  0.02661089,\n",
       "         0.03334468,  0.03334139],\n",
       "       [ 0.00327434,  0.04190091,  0.04055825, ...,  0.01193176,\n",
       "         0.01107678, -0.0235416 ]])"
      ]
     },
     "execution_count": 12,
     "metadata": {},
     "output_type": "execute_result"
    }
   ],
   "source": [
    "# normalize the datasets\n",
    "train = normalize(train, axis=0)\n",
    "test = normalize(test, axis=0)\n",
    "test"
   ]
  },
  {
   "cell_type": "code",
   "execution_count": 14,
   "id": "d2647055",
   "metadata": {
    "column": 4,
    "index": 18
   },
   "outputs": [
    {
     "data": {
      "text/plain": [
       "array([1., 1., 1., ..., 0., 1., 0.])"
      ]
     },
     "execution_count": 14,
     "metadata": {},
     "output_type": "execute_result"
    }
   ],
   "source": [
    "# Make Predictions\n",
    "\n",
    "num_test = dists.shape[0]\n",
    "y_pred = np.zeros(num_test)\n",
    "for i in range(num_test):\n",
    "    nearest_neighbors_indices = np.argsort(dists[i])\n",
    "    closest_y = np.zeros(k)\n",
    "    for m in range(k):\n",
    "        closest_y[m] = train_labels[nearest_neighbors_indices[m]]\n",
    "    labels = []\n",
    "    label_counts = []\n",
    "    for label in closest_y:\n",
    "        if label not in labels:\n",
    "          labels.append(label)\n",
    "          label_counts.append(1)\n",
    "        else:\n",
    "          label_counts[labels.index(label)] = label_counts[labels.index(label)] + 1\n",
    "    mode_labels = np.argsort(label_counts)[::-1]\n",
    "    y_pred[i] = labels[mode_labels[0]]\n",
    "y_pred"
   ]
  },
  {
   "cell_type": "code",
   "execution_count": 15,
   "id": "1dfb420c",
   "metadata": {
    "column": 4,
    "index": 19
   },
   "outputs": [
    {
     "name": "stdout",
     "output_type": "stream",
     "text": [
      "Got 1402 / 1500 correct => accuracy: 0.934667\n"
     ]
    }
   ],
   "source": [
    "# Compute and print the fraction of correctly predicted examples\n",
    "num_correct = np.sum(y_pred == test_labels)\n",
    "accuracy = float(num_correct) / num_test\n",
    "print('Got %d / %d correct => accuracy: %f' % (num_correct, num_test, accuracy))"
   ]
  },
  {
   "cell_type": "markdown",
   "id": "41324486",
   "metadata": {
    "column": 5,
    "index": 20
   },
   "source": [
    "# Section 5: Reminders and Task Description"
   ]
  },
  {
   "cell_type": "markdown",
   "id": "641ecd40",
   "metadata": {
    "column": 5,
    "index": 21
   },
   "source": [
    "## DOs\n",
    "- DO Run the k-value cell in Section 1 and the cells in Section 4 individually to test each parameter set (k-value and distance metric).\n",
    "- DO Edit the cell for k-value in Section 1.\n",
    "- DO Edit the cell that calculates the distances using one of two distance metrics in Section 4.\n",
    "- DO Take Notes on paper."
   ]
  },
  {
   "cell_type": "markdown",
   "id": "a89891f8",
   "metadata": {
    "column": 5,
    "index": 22
   },
   "source": [
    "## DO NOTs\n",
    "- DO NOT Run All.\n",
    "- DO NOT Edit any cells other than the two specified.\n",
    "- DO NOT Move cells.\n",
    "- DO NOT Delete cells.\n",
    "- DO NOT Add cells.\n",
    "- DO NOT Take Notes in the notebook."
   ]
  },
  {
   "cell_type": "markdown",
   "id": "34993a83",
   "metadata": {
    "column": 5,
    "index": 23
   },
   "source": [
    "## Task Description Reminder\n",
    "You are tasked with tuning the parameters for k-value and distance metric to find the best k-value for each distance metric and then to determine which distance metric, with its optimal k-value, results in the highest accuracy (most accurate model). To do this, you will have to evaluate each combination."
   ]
  },
  {
   "cell_type": "markdown",
   "id": "a6035a4a",
   "metadata": {
    "column": 5,
    "index": 24
   },
   "source": [
    "## Lorem Ipsum\n",
    "Sed ut perspiciatis, unde omnis iste natus error sit voluptatem accusantium doloremque laudantium, totam rem aperiam eaque ipsa, quae ab illo inventore veritatis et quasi architecto beatae vitae dicta sunt, explicabo. Nemo enim ipsam voluptatem, quia voluptas sit, aspernatur aut odit aut fugit, sed quia consequuntur magni dolores eos, qui ratione voluptatem sequi nesciunt, neque porro quisquam est, qui dolorem ipsum, quia dolor sit amet consectetur adipiscing velit, sed quia non numquam do eius modi tempora incididunt, ut labore et dolore magnam aliquam quaerat voluptatem. Ut enim ad minima veniam, quis nostrumd exercitationem ullam corporis suscipit laboriosam, nisi ut aliquid ex ea commodi consequatur? DQuis autem vel eum irure reprehenderit, qui in ea voluptate velit esse, quam nihil molestiae consequatur, vel illum, qui dolorem eum fugiat, quo voluptas nulla pariatur? At vero eos et accusamus et iusto odio dignissimos ducimus, qui blanditiis praesentium voluptatum deleniti atque corrupti, quos dolores et quas molestias excepturi sint, obcaecati cupiditate non provident, similique sunt in culpa, qui officia deserunt mollitia animi, id est laborum et dolorum fuga. Et harum quidem rerum facilis est et expedita distinctio. Nam libero tempore, cum soluta nobis est eligendi optio, cumque nihil impedit, quo minus id, quod maxime placeat, facere possimus, omnis voluptas assumenda est, omnis dolor repellendus. Temporibus autem quibusdam et aut officiis debitis aut rerum necessitatibus saepe eveniet, ut et voluptates repudiandae sint et molestiae non recusandae. Itaque earum rerum hic tenetur a sapiente delectus, ut aut reiciendis voluptatibus maiores alias consequatur aut perferendis doloribus asperiores repellat."
   ]
  },
  {
   "cell_type": "markdown",
   "id": "b42de3c2",
   "metadata": {
    "column": 5,
    "index": 25
   },
   "source": [
    "# Irrelevant Text\n",
    "This is more irrelevant text padding the notebook. Don't read this any further. It's pointless. Why are you still reading this? Focus on the task at hand."
   ]
  }
 ],
 "metadata": {
  "columns": 5,
  "language_info": {
   "codemirror_mode": {
    "name": "ipython",
    "version": 3
   },
   "file_extension": ".py",
   "mimetype": "text/x-python",
   "name": "python",
   "nbconvert_exporter": "python",
   "pygments_lexer": "ipython3",
   "version": "3.9.1"
  }
 },
 "nbformat": 4,
 "nbformat_minor": 5
}
